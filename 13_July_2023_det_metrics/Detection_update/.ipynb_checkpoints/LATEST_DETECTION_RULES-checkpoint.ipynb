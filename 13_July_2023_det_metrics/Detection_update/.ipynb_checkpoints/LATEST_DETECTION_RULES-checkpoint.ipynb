{
 "cells": [
  {
   "cell_type": "code",
   "execution_count": 10,
   "id": "09598edf",
   "metadata": {},
   "outputs": [
    {
     "name": "stdout",
     "output_type": "stream",
     "text": [
      "80 24\n",
      "185\n"
     ]
    }
   ],
   "source": [
    "###Code to extract TP, FP, FN from detections and writing to a file\n",
    "import pandas as pd\n",
    "\n",
    "df_1=pd.read_csv(\"DR_v7_2model_over_v6dataset.csv\")\n",
    "gt_list=df_1['image'].tolist()\n",
    "#print(gt_list)\n",
    "df_2=pd.read_csv(\"DR_v6_2model_over_v6dataset.csv\")\n",
    "dt_list=df_2['image'].tolist()\n",
    "#print(dt_list)\n",
    "FP_mis=(set(dt_list).difference(gt_list))\n",
    "FP=list(FP_mis)\n",
    "FN_mis=(set(gt_list).difference(dt_list))\n",
    "FN=list(FN_mis)\n",
    "print(len(FP),len(FN))\n",
    "TP_mis=(set(dt_list).difference(FP))\n",
    "TP=list(TP_mis)\n",
    "print(len(TP))"
   ]
  },
  {
   "cell_type": "code",
   "execution_count": 11,
   "id": "80f80c58",
   "metadata": {},
   "outputs": [
    {
     "data": {
      "text/plain": [
       "'\\n#Below code gives unique values in detections\\nlen(dt_list)\\nimport numpy as N\\n#list_inp = [100, 75, 100, 20, 75, 12, 75, 25] \\n\\nres = N.array(dt_list) \\nunique_res = N.unique(res) \\nprint(\"Unique elements of the list using numpy.unique():\\n\")\\nprint((unique_res))\\nlen(dt_list)'"
      ]
     },
     "execution_count": 11,
     "metadata": {},
     "output_type": "execute_result"
    }
   ],
   "source": [
    "'''\n",
    "#Below code gives unique values in detections\n",
    "len(dt_list)\n",
    "import numpy as N\n",
    "#list_inp = [100, 75, 100, 20, 75, 12, 75, 25] \n",
    "\n",
    "res = N.array(dt_list) \n",
    "unique_res = N.unique(res) \n",
    "print(\"Unique elements of the list using numpy.unique():\\n\")\n",
    "print((unique_res))\n",
    "len(dt_list)'''"
   ]
  },
  {
   "cell_type": "code",
   "execution_count": 12,
   "id": "4885bdc7",
   "metadata": {},
   "outputs": [
    {
     "name": "stdout",
     "output_type": "stream",
     "text": [
      "File written successfully\n"
     ]
    }
   ],
   "source": [
    "#Writing those images to a file\n",
    "with open('FP.txt', 'w+') as f:\n",
    "     \n",
    "    # write elements of list\n",
    "    for items in FP:\n",
    "        f.write('%s\\n' %items)\n",
    "     \n",
    "    print(\"File written successfully\")\n",
    " \n",
    " \n",
    "# close the file\n",
    "f.close()"
   ]
  },
  {
   "cell_type": "code",
   "execution_count": 13,
   "id": "24a01e0f",
   "metadata": {},
   "outputs": [
    {
     "name": "stdout",
     "output_type": "stream",
     "text": [
      "File written successfully\n"
     ]
    }
   ],
   "source": [
    "#Writing those images to a file\n",
    "with open('FN.txt', 'w+') as f:\n",
    "     \n",
    "    # write elements of list\n",
    "    for items in FN:\n",
    "        f.write('%s\\n' %items)\n",
    "     \n",
    "    print(\"File written successfully\")\n",
    " \n",
    " \n",
    "# close the file\n",
    "f.close()"
   ]
  },
  {
   "cell_type": "code",
   "execution_count": 14,
   "id": "d831b280",
   "metadata": {},
   "outputs": [
    {
     "name": "stdout",
     "output_type": "stream",
     "text": [
      "File written successfully\n"
     ]
    }
   ],
   "source": [
    "#Writing those images to a file\n",
    "with open('TP.txt', 'w+') as f:\n",
    "     \n",
    "    # write elements of list\n",
    "    for items in TP:\n",
    "        f.write('%s\\n' %items)\n",
    "     \n",
    "    print(\"File written successfully\")\n",
    " \n",
    " \n",
    "# close the file\n",
    "f.close()"
   ]
  },
  {
   "cell_type": "code",
   "execution_count": null,
   "id": "3d70d8a9",
   "metadata": {},
   "outputs": [],
   "source": []
  }
 ],
 "metadata": {
  "kernelspec": {
   "display_name": "Python 3 (ipykernel)",
   "language": "python",
   "name": "python3"
  },
  "language_info": {
   "codemirror_mode": {
    "name": "ipython",
    "version": 3
   },
   "file_extension": ".py",
   "mimetype": "text/x-python",
   "name": "python",
   "nbconvert_exporter": "python",
   "pygments_lexer": "ipython3",
   "version": "3.10.6"
  }
 },
 "nbformat": 4,
 "nbformat_minor": 5
}
