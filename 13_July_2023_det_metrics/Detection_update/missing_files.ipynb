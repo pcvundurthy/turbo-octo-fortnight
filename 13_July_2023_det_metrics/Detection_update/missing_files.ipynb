{
 "cells": [
  {
   "cell_type": "code",
   "execution_count": 28,
   "id": "952f8976",
   "metadata": {},
   "outputs": [
    {
     "name": "stdout",
     "output_type": "stream",
     "text": [
      "\n",
      "Entries missing in file2 compared to file1:\n",
      "{'img-0539.jpg', 'img-8454.jpg', 'img-8122.jpg', 'img-0550.jpg', 'img-0491.jpg'}\n"
     ]
    }
   ],
   "source": [
    "import pandas as pd\n",
    "\n",
    "# Open the text file in read mode\n",
    "with open('TP_Label_Class_1.txt', 'r') as file:\n",
    "    # Read all lines from the file and store them in a list\n",
    "    lines = file.readlines()\n",
    "\n",
    "# Optionally, you may want to remove newline characters from each line\n",
    "lines = [line.strip() for line in lines]\n",
    "\n",
    "# Print the list of lines\n",
    "#print(lines)\n",
    "\n",
    "# Read the first CSV file\n",
    "df1 = pd.read_csv('DR_v6_2model_over_v6dataset.csv')\n",
    "\n",
    "# Read the second CSV file\n",
    "df2 = pd.read_csv('DR_v7_2model_over_v6dataset.csv')\n",
    "\n",
    "# Extract the first column from each DataFrame\n",
    "col1_file1 = set(df1.iloc[:, 0])\n",
    "col1_file2 = set(df2.iloc[:, 0])\n",
    "set_lines=set(lines)\n",
    "\n",
    "# Find the differences\n",
    "missing_in_file1 = col1_file2 - col1_file1\n",
    "missing_in_file2 = set_lines - col1_file2\n",
    "\n",
    "#print(\"Entries missing in file1 compared to file2:\")\n",
    "#print(missing_in_file1)\n",
    "print(\"\\nEntries missing in file2 compared to file1:\")\n",
    "print(missing_in_file2)\n"
   ]
  },
  {
   "cell_type": "code",
   "execution_count": 23,
   "id": "36f15d9e",
   "metadata": {},
   "outputs": [
    {
     "name": "stdout",
     "output_type": "stream",
     "text": [
      "['img-5800.jpg', 'img-5310.jpg', 'img-1784.jpg', 'img-1781.jpg', 'img-5975.jpg', 'img-8715.jpg', 'img-5676.jpg', 'img-5627.jpg', 'img-0489.jpg', 'img-5302.jpg', 'img-5539.jpg', 'img-1774.jpg', 'img-1418.jpg', 'img-5730.jpg', 'img-1479.jpg', 'img-9271.jpg', 'img-5711.jpg', 'img-5308.jpg', 'img-5915.jpg', 'img-5408.jpg', 'img-2321.jpg', 'img-8174.jpg', 'img-8729.jpg', 'img-6168.jpg', 'img-4922.jpg', 'img-5344.jpg', 'img-5712.jpg', 'img-5850.jpg', 'img-0484.jpg', 'img-1497.jpg', 'img-0474.jpg', 'img-0503.jpg', 'img-5522.jpg', 'img-0565.jpg', 'img-8463.jpg', 'img-5926.jpg', 'img-8167.jpg', 'img-5524.jpg', 'img-5326.jpg', 'img-5573.jpg', 'img-5792.jpg', 'img-5504.jpg', 'img-5989.jpg', 'img-5787.jpg', 'img-5724.jpg', 'img-8717.jpg', 'img-5843.jpg', 'img-0523.jpg', 'img-5422.jpg', 'img-5352.jpg', 'img-5518.jpg', 'img-5290.jpg', 'img-5515.jpg', 'img-0497.jpg', 'img-5538.jpg', 'img-6119.jpg', 'img-5906.jpg', 'img-5531.jpg', 'img-0558.jpg', 'img-1783.jpg', 'img-1787.jpg', 'img-5816.jpg', 'img-5512.jpg', 'img-8718.jpg', 'img-5505.jpg', 'img-0502.jpg', 'img-1782.jpg', 'img-5304.jpg', 'img-8684.jpg', 'img-8711.jpg', 'img-2308.jpg', 'img-0739.jpg', 'img-5510.jpg', 'img-5901.jpg', 'img-5535.jpg', 'img-5521.jpg', 'img-8424.jpg', 'img-0528.jpg', 'img-0498.jpg', 'img-5914.jpg', 'img-5403.jpg', 'img-6117.jpg', 'img-6423.jpg', 'img-5814.jpg', 'img-5984.jpg', 'img-5861.jpg', 'img-0820.jpg', 'img-0496.jpg', 'img-5759.jpg']\n"
     ]
    }
   ],
   "source": [
    "import pandas as pd\n",
    "\n",
    "gt_1=pd.read_csv(\"GT_v6.csv\")\n",
    "gt_list=gt_1['image'].tolist()\n",
    "\n",
    "FP_mis=(set(missing_in_file2).difference(gt_list))\n",
    "FP=list(FP_mis)\n",
    "print(FP)\n"
   ]
  },
  {
   "cell_type": "code",
   "execution_count": 5,
   "id": "557b0284",
   "metadata": {},
   "outputs": [
    {
     "name": "stdout",
     "output_type": "stream",
     "text": [
      "Not all items in file1 are present in file2.\n"
     ]
    }
   ],
   "source": [
    "import pandas as pd\n",
    "\n",
    "def check_items_presence(file1, file2):\n",
    "    # Read CSV files\n",
    "    df1 = pd.read_csv(file1)\n",
    "    df2 = pd.read_csv(file2)\n",
    "\n",
    "    # Extract first columns\n",
    "    col1_file1 = set(df1.iloc[:, 0])\n",
    "    col1_file2 = set(df2.iloc[:, 0])\n",
    "\n",
    "    # Check if all items in file1 are present in file2\n",
    "    all_present = all(item in col1_file2 for item in col1_file1)\n",
    "    for i in range(len(col1_file1)):\n",
    "        for j in range(len(col1_file2)):\n",
    "            if\n",
    "\n",
    "    return all_present\n",
    "\n",
    "# File paths\n",
    "file1_path = \"DR_v6_2model_over_v6dataset.csv\"\n",
    "file2_path = \"DR_v7_2model_over_v6dataset.csv\"\n",
    "\n",
    "# Call function to check presence\n",
    "result = check_items_presence(file1_path, file2_path)\n",
    "\n",
    "if result:\n",
    "    print(\"All items in file1 are present in file2.\")\n",
    "else:\n",
    "    print(\"Not all items in file1 are present in file2.\")\n"
   ]
  },
  {
   "cell_type": "code",
   "execution_count": 12,
   "id": "36ec2c1a",
   "metadata": {},
   "outputs": [
    {
     "name": "stdout",
     "output_type": "stream",
     "text": [
      "Names present in file1 but not in file2:\n",
      "10     img-0565.jpg\n",
      "13     img-0497.jpg\n",
      "28     img-1479.jpg\n",
      "34     img-5310.jpg\n",
      "48     img-0474.jpg\n",
      "           ...     \n",
      "539    img-2321.jpg\n",
      "546    img-5408.jpg\n",
      "550    img-1781.jpg\n",
      "554    img-5989.jpg\n",
      "556    img-5524.jpg\n",
      "Name: image, Length: 100, dtype: object\n"
     ]
    }
   ],
   "source": [
    "import pandas as pd\n",
    "\n",
    "# Read the two CSV files\n",
    "file1 = pd.read_csv('DR_v6_2model_over_v6dataset.csv')\n",
    "file2 = pd.read_csv('DR_v7_2model_over_v6dataset.csv')\n",
    "\n",
    "# Extract the first columns of both files\n",
    "column1_file1 = file1.iloc[:, 0]\n",
    "column1_file2 = file2.iloc[:, 0]\n",
    "\n",
    "# Check for items in file1 that are not in file2\n",
    "missing_names = column1_file1[~column1_file1.isin(column1_file2)]\n",
    "\n",
    "# Print the missing names\n",
    "print(\"Names present in file1 but not in file2:\")\n",
    "print(missing_names)\n"
   ]
  },
  {
   "cell_type": "code",
   "execution_count": null,
   "id": "104c8c9f",
   "metadata": {},
   "outputs": [],
   "source": []
  }
 ],
 "metadata": {
  "kernelspec": {
   "display_name": "Python 3 (ipykernel)",
   "language": "python",
   "name": "python3"
  },
  "language_info": {
   "codemirror_mode": {
    "name": "ipython",
    "version": 3
   },
   "file_extension": ".py",
   "mimetype": "text/x-python",
   "name": "python",
   "nbconvert_exporter": "python",
   "pygments_lexer": "ipython3",
   "version": "3.10.6"
  }
 },
 "nbformat": 4,
 "nbformat_minor": 5
}
