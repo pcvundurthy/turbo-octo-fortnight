{
 "cells": [
  {
   "cell_type": "code",
   "execution_count": 1,
   "id": "55515c18-3aac-49b3-850c-2c43877d662e",
   "metadata": {},
   "outputs": [],
   "source": [
    "from typing import List, Optional\n",
    "\n",
    "# ✅ Step 1: Define the ListNode class\n",
    "class ListNode:\n",
    "    def __init__(self, val=0, next=None):\n",
    "        self.val = val\n",
    "        self.next = next\n",
    "\n",
    "# ✅ Step 2: Helper to convert a Python list to a Linked List\n",
    "def build_linked_list(arr: List[int]) -> Optional[ListNode]:\n",
    "    if not arr:\n",
    "        return None\n",
    "    head = ListNode(arr[0])\n",
    "    current = head\n",
    "    for val in arr[1:]:\n",
    "        current.next = ListNode(val)\n",
    "        current = current.next\n",
    "    return head\n",
    "\n",
    "# ✅ Step 3: Helper to convert a Linked List to Python list (for output)\n",
    "def print_linked_list(head: Optional[ListNode]) -> List[int]:\n",
    "    result = []\n",
    "    while head:\n",
    "        result.append(head.val)\n",
    "        head = head.next\n",
    "    return result\n",
    "\n",
    "# ✅ Step 4: The mergeKLists solution\n",
    "class Solution:\n",
    "    def mergeKLists(self, lists: List[Optional[ListNode]]) -> Optional[ListNode]:\n",
    "        if len(lists) == 0 or not lists:\n",
    "            return None\n",
    "        while len(lists) > 1:\n",
    "            merged_lists = []\n",
    "            for i in range(0, len(lists), 2):\n",
    "                l1 = lists[i]\n",
    "                l2 = lists[i+1] if (i+1) < len(lists) else None\n",
    "                merged_lists.append(self.merge_lists(l1, l2))\n",
    "            lists = merged_lists\n",
    "        return lists[0]\n",
    "\n",
    "    def merge_lists(self, l1: Optional[ListNode], l2: Optional[ListNode]) -> Optional[ListNode]:\n",
    "        dummy = ListNode(0)\n",
    "        tail = dummy\n",
    "        while l1 and l2:\n",
    "            if l1.val < l2.val:\n",
    "                tail.next = l1\n",
    "                l1 = l1.next\n",
    "            else:\n",
    "                tail.next = l2\n",
    "                l2 = l2.next\n",
    "            tail = tail.next\n",
    "        if l1:\n",
    "            tail.next = l1\n",
    "        elif l2:\n",
    "            tail.next = l2\n",
    "        return dummy.next"
   ]
  },
  {
   "cell_type": "code",
   "execution_count": 5,
   "id": "ccde2e26-ee3a-4089-bb60-923fd02cae71",
   "metadata": {},
   "outputs": [
    {
     "name": "stdout",
     "output_type": "stream",
     "text": [
      "[1, 1, 2, 3, 4, 4, 5, 6]\n"
     ]
    }
   ],
   "source": [
    "# Create sample input\n",
    "input_lists = [\n",
    "    build_linked_list([1, 4, 5]),\n",
    "    build_linked_list([1, 3, 4]),\n",
    "    build_linked_list([2, 6])\n",
    "]\n",
    "\n",
    "# Merge the k sorted lists\n",
    "sol = Solution()\n",
    "merged_head = sol.mergeKLists(input_lists)\n",
    "\n",
    "# Print the merged result\n",
    "print(print_linked_list(merged_head))"
   ]
  },
  {
   "cell_type": "code",
   "execution_count": null,
   "id": "f649aca7-6fb4-43ed-a389-9119cf681b6a",
   "metadata": {},
   "outputs": [],
   "source": []
  }
 ],
 "metadata": {
  "kernelspec": {
   "display_name": "Python 3 (ipykernel)",
   "language": "python",
   "name": "python3"
  },
  "language_info": {
   "codemirror_mode": {
    "name": "ipython",
    "version": 3
   },
   "file_extension": ".py",
   "mimetype": "text/x-python",
   "name": "python",
   "nbconvert_exporter": "python",
   "pygments_lexer": "ipython3",
   "version": "3.11.8"
  }
 },
 "nbformat": 4,
 "nbformat_minor": 5
}
