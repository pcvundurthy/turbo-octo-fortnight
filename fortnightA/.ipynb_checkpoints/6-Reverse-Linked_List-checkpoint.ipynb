{
 "cells": [
  {
   "cell_type": "raw",
   "id": "d7cf8ecc-bb92-4352-8c1d-414bbbd55f42",
   "metadata": {},
   "source": [
    "206. Reverse Linked List\n",
    "Easy\n",
    "Topics\n",
    "premium lock icon\n",
    "Companies\n",
    "Given the head of a singly linked list, reverse the list, and return the reversed list.\n",
    "\n",
    " \n",
    "\n",
    "Example 1:\n",
    "\n",
    "\n",
    "Input: head = [1,2,3,4,5]\n",
    "Output: [5,4,3,2,1]\n",
    "Example 2:\n",
    "\n",
    "\n",
    "Input: head = [1,2]\n",
    "Output: [2,1]\n",
    "Example 3:\n",
    "\n",
    "Input: head = []\n",
    "Output: []\n",
    " \n",
    "\n",
    "Constraints:\n",
    "\n",
    "The number of nodes in the list is the range [0, 5000].\n",
    "-5000 <= Node.val <= 5000\n",
    " \n",
    "\n",
    "Follow up: A linked list can be reversed either iteratively or recursively. Could you implement both?"
   ]
  },
  {
   "cell_type": "code",
   "execution_count": 35,
   "id": "a8e454de-0180-4342-8d4c-9c9f806412f9",
   "metadata": {},
   "outputs": [],
   "source": [
    "from typing import Optional\n",
    "# Definition for singly-linked list.\n",
    "class ListNode:\n",
    "    def __init__(self, val=0, next=None):\n",
    "        self.val = val\n",
    "        self.next = next\n",
    "class Solution:\n",
    "    def reverseList(self, head: Optional[ListNode]) -> Optional[ListNode]:\n",
    "        prev=None\n",
    "        current=head\n",
    "        while current:\n",
    "            next_node=current.next\n",
    "            current.next=prev\n",
    "            prev=current\n",
    "            current=next_node\n",
    "        return prev\n",
    "        "
   ]
  },
  {
   "cell_type": "code",
   "execution_count": 36,
   "id": "bdf6c650-7646-42fa-8b27-9f8647e31a86",
   "metadata": {},
   "outputs": [],
   "source": [
    "#how to convert a list to a linked list:\n",
    "def Build_Linked_List(values):\n",
    "    if not values:\n",
    "        return None\n",
    "    head=ListNode(values[0]) #head=listnode{val=1,next=none}\n",
    "    current = head\n",
    "    for val in values[1:]:\n",
    "        current.next=ListNode(val) #head=listnode{val=1,next=listnode{val=2,next=none}}; then->listnode{val=1,next}\n",
    "        current=current.next\n",
    "    return head "
   ]
  },
  {
   "cell_type": "code",
   "execution_count": 37,
   "id": "42032b54-60ae-4b34-9d40-e5577c864925",
   "metadata": {},
   "outputs": [],
   "source": [
    "p=[1,2,3]\n",
    "head=Build_Linked_List(p)"
   ]
  },
  {
   "cell_type": "code",
   "execution_count": 40,
   "id": "57f7764e-1118-489d-9b05-d1d710a8cd1a",
   "metadata": {},
   "outputs": [
    {
     "name": "stdout",
     "output_type": "stream",
     "text": [
      "<__main__.ListNode object at 0x1112cb210>\n"
     ]
    }
   ],
   "source": [
    "print(head.next)"
   ]
  },
  {
   "cell_type": "code",
   "execution_count": null,
   "id": "da964382-d591-44f2-b227-04dd70585dab",
   "metadata": {},
   "outputs": [],
   "source": []
  },
  {
   "cell_type": "code",
   "execution_count": null,
   "id": "8b957710-493c-4377-bc23-0c8e3b12ee3e",
   "metadata": {},
   "outputs": [],
   "source": []
  },
  {
   "cell_type": "code",
   "execution_count": null,
   "id": "cea40ab6-d325-40dc-896e-c2260163c493",
   "metadata": {},
   "outputs": [],
   "source": []
  },
  {
   "cell_type": "code",
   "execution_count": null,
   "id": "811bf088-7bed-4aa4-b97a-76707fe3c22b",
   "metadata": {},
   "outputs": [],
   "source": []
  }
 ],
 "metadata": {
  "kernelspec": {
   "display_name": "Python 3 (ipykernel)",
   "language": "python",
   "name": "python3"
  },
  "language_info": {
   "codemirror_mode": {
    "name": "ipython",
    "version": 3
   },
   "file_extension": ".py",
   "mimetype": "text/x-python",
   "name": "python",
   "nbconvert_exporter": "python",
   "pygments_lexer": "ipython3",
   "version": "3.11.8"
  }
 },
 "nbformat": 4,
 "nbformat_minor": 5
}
