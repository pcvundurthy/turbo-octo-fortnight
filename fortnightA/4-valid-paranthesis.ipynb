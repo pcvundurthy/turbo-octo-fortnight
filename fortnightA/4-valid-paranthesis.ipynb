{
 "cells": [
  {
   "cell_type": "raw",
   "id": "0052bf26-95e0-48e0-8cd6-d8dae89bc99b",
   "metadata": {},
   "source": [
    "Given a string s containing just the characters '(', ')', '{', '}', '[' and ']', determine if the input string is valid.\n",
    "\n",
    "An input string is valid if:\n",
    "\n",
    "Open brackets must be closed by the same type of brackets.\n",
    "Open brackets must be closed in the correct order.\n",
    "Every close bracket has a corresponding open bracket of the same type.\n",
    " \n",
    "\n",
    "Example 1:\n",
    "\n",
    "Input: s = \"()\"\n",
    "\n",
    "Output: true\n",
    "\n",
    "Example 2:\n",
    "\n",
    "Input: s = \"()[]{}\"\n",
    "\n",
    "Output: true\n",
    "\n",
    "Example 3:\n",
    "\n",
    "Input: s = \"(]\"\n",
    "\n",
    "Output: false\n",
    "\n",
    "Example 4:\n",
    "\n",
    "Input: s = \"([])\"\n",
    "\n",
    "Output: true\n",
    "\n",
    " \n",
    "\n",
    "Constraints:\n",
    "\n",
    "1 <= s.length <= 104\n",
    "s consists of parentheses only '()[]{}'."
   ]
  },
  {
   "cell_type": "code",
   "execution_count": 41,
   "id": "0287a302-5452-4509-9261-8707994fbeba",
   "metadata": {},
   "outputs": [],
   "source": [
    "#dictionary/ hashmap:\n",
    "bracket_map={\")\":\"(\",\"}\":\"{\",\"]\":\"[\"}"
   ]
  },
  {
   "cell_type": "code",
   "execution_count": 42,
   "id": "e61e42d7-18f3-4001-a37c-55452456bdfc",
   "metadata": {},
   "outputs": [],
   "source": [
    "#Given that there are going to be parathesis:\n",
    "#step1: it should not be a closed parathesis in the first place, thats a definite False\n",
    "#step2: we append open paranthesis into the stack\n",
    "#in a hashmap with closed parathesis as key and open as value pairs, we check if the parathesis in the character of the string\n",
    "#is open or close, if open, we pass and append, if closed, then check is stack is empty or not. if empty, return false,\n",
    "#if not empty, check if the current characters hashmap value pair is equal to the element in the stack. then true, else false\n"
   ]
  },
  {
   "cell_type": "code",
   "execution_count": 50,
   "id": "be4923fa-5a08-46d4-bab0-6598c3129e78",
   "metadata": {},
   "outputs": [],
   "source": [
    "s1=\"({})\"\n",
    "s2=\"{}[]\"\n",
    "s3=\"(}){\"\n",
    "s4=\")([]\"\n",
    "s5=\"({)}\"\n",
    "s6=\"(){}[]\""
   ]
  },
  {
   "cell_type": "code",
   "execution_count": 51,
   "id": "753b321f-ef29-465c-9236-f1997e4323cd",
   "metadata": {},
   "outputs": [],
   "source": [
    "class solution:\n",
    "    def validParanthesis(self,s:str,bracket:dict)->bool:\n",
    "        stack=[]\n",
    "        for char in s:\n",
    "            if char in bracket:\n",
    "                if stack and stack[-1]==bracket[char]:\n",
    "                    stack.pop()\n",
    "                else:\n",
    "                    return False\n",
    "            else:\n",
    "                stack.append(char)\n",
    "        return True if not stack else False              "
   ]
  },
  {
   "cell_type": "code",
   "execution_count": 53,
   "id": "193a4aaa-f5a7-47c1-8576-a79052275d3b",
   "metadata": {},
   "outputs": [
    {
     "name": "stdout",
     "output_type": "stream",
     "text": [
      "True\n",
      "True\n",
      "False\n",
      "False\n",
      "False\n",
      "True\n"
     ]
    }
   ],
   "source": [
    "sol=solution()\n",
    "print(sol.validParanthesis(s1,bracket_map))\n",
    "print(sol.validParanthesis(s2,bracket_map))\n",
    "print(sol.validParanthesis(s3,bracket_map))\n",
    "print(sol.validParanthesis(s4,bracket_map))\n",
    "print(sol.validParanthesis(s5,bracket_map))\n",
    "print(sol.validParanthesis(s6,bracket_map))"
   ]
  },
  {
   "cell_type": "code",
   "execution_count": null,
   "id": "46744e69-e869-4a79-8cad-7aa73b76d437",
   "metadata": {},
   "outputs": [],
   "source": []
  },
  {
   "cell_type": "code",
   "execution_count": null,
   "id": "b4eda67e-3054-4054-a573-b04abe32c2fb",
   "metadata": {},
   "outputs": [],
   "source": []
  },
  {
   "cell_type": "code",
   "execution_count": null,
   "id": "aadbf2af-4ca2-4240-9e7e-cd559785c4b4",
   "metadata": {},
   "outputs": [],
   "source": []
  },
  {
   "cell_type": "code",
   "execution_count": null,
   "id": "30bd8cda-2c9d-4cc6-a3fd-11a4bc1519bd",
   "metadata": {},
   "outputs": [],
   "source": []
  },
  {
   "cell_type": "code",
   "execution_count": null,
   "id": "4376ddb1-4b45-4461-8c19-006a4e1cd07d",
   "metadata": {},
   "outputs": [],
   "source": []
  },
  {
   "cell_type": "code",
   "execution_count": null,
   "id": "2a1597bd-73a7-45fe-824d-6e9ff8543adc",
   "metadata": {},
   "outputs": [],
   "source": []
  },
  {
   "cell_type": "code",
   "execution_count": null,
   "id": "f3dd8ac5-e4b5-4663-8674-8cfc9074f043",
   "metadata": {},
   "outputs": [],
   "source": []
  },
  {
   "cell_type": "raw",
   "id": "62256b63-d1d1-467e-b4fb-aeeeb1e396d5",
   "metadata": {},
   "source": []
  },
  {
   "cell_type": "raw",
   "id": "3e9fcbda-1bf9-4b5b-8f49-f3914463ae72",
   "metadata": {},
   "source": []
  },
  {
   "cell_type": "raw",
   "id": "6ade0e70-9c74-4062-b981-0af56254a80d",
   "metadata": {},
   "source": []
  },
  {
   "cell_type": "raw",
   "id": "9a5e1d57-7914-4afd-af40-61230989b4a7",
   "metadata": {},
   "source": []
  },
  {
   "cell_type": "code",
   "execution_count": null,
   "id": "42a728ec-651b-49bd-a5bf-9992918c444d",
   "metadata": {},
   "outputs": [],
   "source": []
  },
  {
   "cell_type": "code",
   "execution_count": null,
   "id": "9a51ecca-3cda-486a-b584-6d5b732b4f0a",
   "metadata": {},
   "outputs": [],
   "source": []
  },
  {
   "cell_type": "code",
   "execution_count": null,
   "id": "576a6ac8-f5a1-417c-bc56-805fb6860e62",
   "metadata": {},
   "outputs": [],
   "source": []
  },
  {
   "cell_type": "code",
   "execution_count": null,
   "id": "4e908ab9-4d9d-47a6-9c08-a8f32d6e2e43",
   "metadata": {},
   "outputs": [],
   "source": []
  },
  {
   "cell_type": "code",
   "execution_count": null,
   "id": "95aa9713-0dd7-4071-a2ec-3439e0d450ce",
   "metadata": {},
   "outputs": [],
   "source": []
  },
  {
   "cell_type": "code",
   "execution_count": null,
   "id": "a624fcb6-42e9-401b-b46c-674456b47eae",
   "metadata": {},
   "outputs": [],
   "source": []
  },
  {
   "cell_type": "code",
   "execution_count": null,
   "id": "746288ab-7c8c-4481-9024-ce2b2cc9e7a6",
   "metadata": {},
   "outputs": [],
   "source": []
  },
  {
   "cell_type": "code",
   "execution_count": null,
   "id": "36a1c3e5-a2f7-49c2-8921-6012b3f6e11d",
   "metadata": {},
   "outputs": [],
   "source": []
  },
  {
   "cell_type": "code",
   "execution_count": null,
   "id": "711fc410-ac10-4224-b846-bcf728172b17",
   "metadata": {},
   "outputs": [],
   "source": []
  }
 ],
 "metadata": {
  "kernelspec": {
   "display_name": "Python 3 (ipykernel)",
   "language": "python",
   "name": "python3"
  },
  "language_info": {
   "codemirror_mode": {
    "name": "ipython",
    "version": 3
   },
   "file_extension": ".py",
   "mimetype": "text/x-python",
   "name": "python",
   "nbconvert_exporter": "python",
   "pygments_lexer": "ipython3",
   "version": "3.11.8"
  }
 },
 "nbformat": 4,
 "nbformat_minor": 5
}
