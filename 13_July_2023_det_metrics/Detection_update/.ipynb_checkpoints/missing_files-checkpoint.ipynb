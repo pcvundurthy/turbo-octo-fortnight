{
 "cells": [
  {
   "cell_type": "code",
   "execution_count": 27,
   "id": "15a98bf1",
   "metadata": {},
   "outputs": [
    {
     "name": "stdout",
     "output_type": "stream",
     "text": [
      "\n",
      "Entries missing in file2 compared to file1:\n",
      "{'img-8601.jpg', 'img-8400.jpg', 'img-8712.jpg', 'img-0907.jpg', 'img-1425.jpg', 'img-1778.jpg', 'img-0905.jpg', 'img-0713.jpg', 'img-5801.jpg', 'img-5907.jpg', 'img-0903.jpg', 'img-0808.jpg', 'img-5844.jpg', 'img-7912.jpg', 'img-5662.jpg', 'img-5955.jpg', 'img-1780.jpg', 'img-5706.jpg', 'img-0904.jpg', 'img-6118.jpg', 'img-4521.jpg', 'img-5342.jpg', 'img-5328.jpg', 'img-5753.jpg', 'img-0724.jpg', 'img-1763.jpg', 'img-0500.jpg', 'img-5409.jpg', 'img-8724.jpg', 'img-8704.jpg', 'img-6123.jpg', 'img-1762.jpg', 'img-6059.jpg', 'img-8409.jpg', 'img-1769.jpg', 'img-0906.jpg', 'img-1768.jpg', 'img-2319.jpg', 'img-5916.jpg', 'img-0909.jpg', 'img-5908.jpg', 'img-8774.jpg', 'pxl-20220607-133610099.jpg', 'img-0717.jpg', 'img-6114.jpg', 'img-8771.jpg', 'img-5343.jpg', 'img-5491.jpg', 'img-0896.jpg', 'img-4522.jpg', 'img-9615.jpg', 'img-6129.jpg', 'img-8785.jpg', 'img-4523.jpg', 'img-1786.jpg', 'img-0715.jpg', 'img-0499.jpg', 'img-5838.jpg', 'img-0897.jpg', 'img-5925.jpg', 'img-8713.jpg', 'img-8708.jpg', 'img-6021a.jpg', 'IMG_1173.jpg', 'img-5359.jpg', 'img-4506.jpg', 'img-8274-2.jpg', 'img-5345.jpg', 'img-4505.jpg', 'img-1764.jpg', 'img-0788.jpg', 'img-1777.jpg', 'img-5821.jpg', 'img-7892.jpg', 'img-5998.jpg', 'img-5857.jpg', 'img-0898.jpg', 'img-0910.jpg', 'img-8261.jpg', 'img-5454.jpg', 'img-9330.jpg', 'img-5971.jpg', 'img-5852.jpg', 'img-1467.jpg', 'img-8775.jpg', 'img-0908.jpg', 'img-1772.jpg', 'img-7913.jpg', 'img-0895.jpg', 'img-0733.jpg', 'img-0784.jpg', 'img-5924.jpg', 'img-0511.jpg', 'img-6016.jpg', 'img-0787.jpg', 'img-5687.jpg', 'img-8606.jpg', 'img-6128.jpg', 'img-5332.jpg', 'img-0557.jpg', 'img-5944.jpg', 'img-5982.jpg', 'img-8709.jpg', 'img-8168.jpg', 'img-8776.jpg', 'img-5934.jpg', 'img-8705.jpg', 'img-5830.jpg', 'img-0893.jpg', 'img-4546.jpg', 'img-0900.jpg', 'img-0894.jpg', 'img-8707.jpg', 'img-0756.jpg', 'img-1775.jpg', 'img-5820.jpg', 'img-1776.jpg', 'img-0730.jpg', 'img-0892.jpg', 'img-8723.jpg', 'img-7916_1.jpg', 'img-3599.jpg', 'img-5848.jpg', 'img-0714.jpg', 'img-5808.jpg', 'img-0506.jpg', 'img-0797.jpg', 'img-5939.jpg', 'img-0891.jpg', 'img-5772.jpg', 'img-6060.jpg', 'img-0752.jpg', 'img-0559.jpg', 'img-5919.jpg', 'img-5811.jpg', 'img-5692.jpg', 'img-0754.jpg', 'img-5311.jpg', 'img-1489.jpg', 'img-1779.jpg', 'img-0753.jpg', 'img-8175.jpg', 'img-8722.jpg', 'img-1771.jpg', 'img-6104.jpg', 'img-6014.jpg', 'img-6023.jpg', 'img-7917_1.jpg', 'img-8773.jpg', 'img-1765.jpg', 'img-1789.jpg', 'img-0911.jpg', 'img-6115.jpg', 'img-5358.jpg', 'img-5529.jpg', 'img-4510.jpg', 'img-5945.jpg', 'img-5896.jpg', 'img-8176.jpg', 'img-8706.jpg', 'img-8452.jpg', 'img-8747.jpg', 'img-5499.jpg', 'img-8274.jpg', 'img-4511.jpg', 'img-5606.jpg', 'img-8605.jpg', 'img-4524.jpg', 'img-5822.jpg', 'img-0480.jpg', 'img-1773.jpg', 'img-5754.jpg', 'img-1766.jpg', 'img-8728.jpg', 'img-5909.jpg', 'img-5877.jpg', 'img-0755.jpg', 'img-5661.jpg', 'img-2309.jpg', 'img-5983.jpg', 'img-5825.jpg', 'img-0718.jpg', 'img-0801.jpg', 'img-0902.jpg', 'img-1767.jpg', 'img-5812.jpg', 'img-1770.jpg', 'img-4527.jpg', 'img-0786.jpg', 'img-0716.jpg', 'img-1480.jpg', 'img-5938.jpg', 'img-8470.jpg', 'img-0785.jpg', 'img-5929.jpg', 'img-5476.jpg', 'img-5943.jpg', 'img-7893.jpg', 'img-1785.jpg', 'img-5807.jpg', 'img-0809.jpg', 'img-0901.jpg', 'img-5651.jpg', 'img-5826.jpg', 'img-8169.jpg', 'img-1815.jpg', 'img-0757.jpg'}\n"
     ]
    }
   ],
   "source": [
    "import pandas as pd\n",
    "\n",
    "# Open the text file in read mode\n",
    "with open('TP_Label_Class_1.txt', 'r') as file:\n",
    "    # Read all lines from the file and store them in a list\n",
    "    lines = file.readlines()\n",
    "\n",
    "# Optionally, you may want to remove newline characters from each line\n",
    "lines = [line.strip() for line in lines]\n",
    "\n",
    "# Print the list of lines\n",
    "#print(lines)\n",
    "\n",
    "# Read the first CSV file\n",
    "df1 = pd.read_csv('DR_v6_2model_over_v6dataset.csv')\n",
    "\n",
    "# Read the second CSV file\n",
    "df2 = pd.read_csv('DR_v7_2model_over_v6dataset.csv')\n",
    "\n",
    "# Extract the first column from each DataFrame\n",
    "col1_file1 = set(df1.iloc[:, 0])\n",
    "col1_file2 = set(df2.iloc[:, 0])\n",
    "set_lines=set(lines)\n",
    "\n",
    "# Find the differences\n",
    "missing_in_file1 = col1_file2 - col1_file1\n",
    "missing_in_file2 = set_lines - col1_file2\n",
    "\n",
    "#print(\"Entries missing in file1 compared to file2:\")\n",
    "#print(missing_in_file1)\n",
    "print(\"\\nEntries missing in file2 compared to file1:\")\n",
    "print(missing_in_file2)\n"
   ]
  },
  {
   "cell_type": "code",
   "execution_count": 23,
   "id": "900b222b",
   "metadata": {},
   "outputs": [
    {
     "name": "stdout",
     "output_type": "stream",
     "text": [
      "['img-5800.jpg', 'img-5310.jpg', 'img-1784.jpg', 'img-1781.jpg', 'img-5975.jpg', 'img-8715.jpg', 'img-5676.jpg', 'img-5627.jpg', 'img-0489.jpg', 'img-5302.jpg', 'img-5539.jpg', 'img-1774.jpg', 'img-1418.jpg', 'img-5730.jpg', 'img-1479.jpg', 'img-9271.jpg', 'img-5711.jpg', 'img-5308.jpg', 'img-5915.jpg', 'img-5408.jpg', 'img-2321.jpg', 'img-8174.jpg', 'img-8729.jpg', 'img-6168.jpg', 'img-4922.jpg', 'img-5344.jpg', 'img-5712.jpg', 'img-5850.jpg', 'img-0484.jpg', 'img-1497.jpg', 'img-0474.jpg', 'img-0503.jpg', 'img-5522.jpg', 'img-0565.jpg', 'img-8463.jpg', 'img-5926.jpg', 'img-8167.jpg', 'img-5524.jpg', 'img-5326.jpg', 'img-5573.jpg', 'img-5792.jpg', 'img-5504.jpg', 'img-5989.jpg', 'img-5787.jpg', 'img-5724.jpg', 'img-8717.jpg', 'img-5843.jpg', 'img-0523.jpg', 'img-5422.jpg', 'img-5352.jpg', 'img-5518.jpg', 'img-5290.jpg', 'img-5515.jpg', 'img-0497.jpg', 'img-5538.jpg', 'img-6119.jpg', 'img-5906.jpg', 'img-5531.jpg', 'img-0558.jpg', 'img-1783.jpg', 'img-1787.jpg', 'img-5816.jpg', 'img-5512.jpg', 'img-8718.jpg', 'img-5505.jpg', 'img-0502.jpg', 'img-1782.jpg', 'img-5304.jpg', 'img-8684.jpg', 'img-8711.jpg', 'img-2308.jpg', 'img-0739.jpg', 'img-5510.jpg', 'img-5901.jpg', 'img-5535.jpg', 'img-5521.jpg', 'img-8424.jpg', 'img-0528.jpg', 'img-0498.jpg', 'img-5914.jpg', 'img-5403.jpg', 'img-6117.jpg', 'img-6423.jpg', 'img-5814.jpg', 'img-5984.jpg', 'img-5861.jpg', 'img-0820.jpg', 'img-0496.jpg', 'img-5759.jpg']\n"
     ]
    }
   ],
   "source": [
    "import pandas as pd\n",
    "\n",
    "gt_1=pd.read_csv(\"GT_v6.csv\")\n",
    "gt_list=gt_1['image'].tolist()\n",
    "\n",
    "FP_mis=(set(missing_in_file2).difference(gt_list))\n",
    "FP=list(FP_mis)\n",
    "print(FP)\n"
   ]
  },
  {
   "cell_type": "code",
   "execution_count": 5,
   "id": "910501b5",
   "metadata": {},
   "outputs": [
    {
     "name": "stdout",
     "output_type": "stream",
     "text": [
      "Not all items in file1 are present in file2.\n"
     ]
    }
   ],
   "source": [
    "import pandas as pd\n",
    "\n",
    "def check_items_presence(file1, file2):\n",
    "    # Read CSV files\n",
    "    df1 = pd.read_csv(file1)\n",
    "    df2 = pd.read_csv(file2)\n",
    "\n",
    "    # Extract first columns\n",
    "    col1_file1 = set(df1.iloc[:, 0])\n",
    "    col1_file2 = set(df2.iloc[:, 0])\n",
    "\n",
    "    # Check if all items in file1 are present in file2\n",
    "    all_present = all(item in col1_file2 for item in col1_file1)\n",
    "    for i in range(len(col1_file1)):\n",
    "        for j in range(len(col1_file2)):\n",
    "            if\n",
    "\n",
    "    return all_present\n",
    "\n",
    "# File paths\n",
    "file1_path = \"DR_v6_2model_over_v6dataset.csv\"\n",
    "file2_path = \"DR_v7_2model_over_v6dataset.csv\"\n",
    "\n",
    "# Call function to check presence\n",
    "result = check_items_presence(file1_path, file2_path)\n",
    "\n",
    "if result:\n",
    "    print(\"All items in file1 are present in file2.\")\n",
    "else:\n",
    "    print(\"Not all items in file1 are present in file2.\")\n"
   ]
  },
  {
   "cell_type": "code",
   "execution_count": 12,
   "id": "35ad53fa",
   "metadata": {},
   "outputs": [
    {
     "name": "stdout",
     "output_type": "stream",
     "text": [
      "Names present in file1 but not in file2:\n",
      "10     img-0565.jpg\n",
      "13     img-0497.jpg\n",
      "28     img-1479.jpg\n",
      "34     img-5310.jpg\n",
      "48     img-0474.jpg\n",
      "           ...     \n",
      "539    img-2321.jpg\n",
      "546    img-5408.jpg\n",
      "550    img-1781.jpg\n",
      "554    img-5989.jpg\n",
      "556    img-5524.jpg\n",
      "Name: image, Length: 100, dtype: object\n"
     ]
    }
   ],
   "source": [
    "import pandas as pd\n",
    "\n",
    "# Read the two CSV files\n",
    "file1 = pd.read_csv('DR_v6_2model_over_v6dataset.csv')\n",
    "file2 = pd.read_csv('DR_v7_2model_over_v6dataset.csv')\n",
    "\n",
    "# Extract the first columns of both files\n",
    "column1_file1 = file1.iloc[:, 0]\n",
    "column1_file2 = file2.iloc[:, 0]\n",
    "\n",
    "# Check for items in file1 that are not in file2\n",
    "missing_names = column1_file1[~column1_file1.isin(column1_file2)]\n",
    "\n",
    "# Print the missing names\n",
    "print(\"Names present in file1 but not in file2:\")\n",
    "print(missing_names)\n"
   ]
  },
  {
   "cell_type": "code",
   "execution_count": null,
   "id": "ae71f5c1",
   "metadata": {},
   "outputs": [],
   "source": []
  }
 ],
 "metadata": {
  "kernelspec": {
   "display_name": "Python 3 (ipykernel)",
   "language": "python",
   "name": "python3"
  },
  "language_info": {
   "codemirror_mode": {
    "name": "ipython",
    "version": 3
   },
   "file_extension": ".py",
   "mimetype": "text/x-python",
   "name": "python",
   "nbconvert_exporter": "python",
   "pygments_lexer": "ipython3",
   "version": "3.10.6"
  }
 },
 "nbformat": 4,
 "nbformat_minor": 5
}
