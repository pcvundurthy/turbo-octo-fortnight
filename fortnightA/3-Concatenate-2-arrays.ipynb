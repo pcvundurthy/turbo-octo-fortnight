{
 "cells": [
  {
   "cell_type": "code",
   "execution_count": 1,
   "id": "0ad681cf-a590-45a5-b3e1-c97d4075b05c",
   "metadata": {},
   "outputs": [],
   "source": [
    "nums=[1,2,3]\n",
    "ans=nums*2"
   ]
  },
  {
   "cell_type": "code",
   "execution_count": 2,
   "id": "8d85d74a-53ed-40f3-801a-0fcaeb715acf",
   "metadata": {},
   "outputs": [
    {
     "data": {
      "text/plain": [
       "[1, 2, 3, 1, 2, 3]"
      ]
     },
     "execution_count": 2,
     "metadata": {},
     "output_type": "execute_result"
    }
   ],
   "source": [
    "ans"
   ]
  },
  {
   "cell_type": "code",
   "execution_count": 3,
   "id": "7c10b383-46a9-447d-af6b-f1fed6045ad5",
   "metadata": {},
   "outputs": [
    {
     "data": {
      "text/plain": [
       "[0, 0]"
      ]
     },
     "execution_count": 3,
     "metadata": {},
     "output_type": "execute_result"
    }
   ],
   "source": [
    "nums=[0]\n",
    "ans = nums*2\n",
    "ans"
   ]
  },
  {
   "cell_type": "code",
   "execution_count": 5,
   "id": "2d9bd3c0-bf41-4cb8-9609-0050324fe73c",
   "metadata": {},
   "outputs": [
    {
     "data": {
      "text/plain": [
       "[0, 0, 0, 0]"
      ]
     },
     "execution_count": 5,
     "metadata": {},
     "output_type": "execute_result"
    }
   ],
   "source": [
    "ans*2"
   ]
  },
  {
   "cell_type": "code",
   "execution_count": 7,
   "id": "8555d3ce-d758-4d86-b249-c0e7065f082e",
   "metadata": {},
   "outputs": [
    {
     "data": {
      "text/plain": [
       "[0, 0, 0, 0]"
      ]
     },
     "execution_count": 7,
     "metadata": {},
     "output_type": "execute_result"
    }
   ],
   "source": [
    "ans+ans"
   ]
  },
  {
   "cell_type": "code",
   "execution_count": 11,
   "id": "6413392a-7d1d-4ebe-9972-5573e955c7a0",
   "metadata": {},
   "outputs": [],
   "source": [
    "ans=ans+[1]*4"
   ]
  },
  {
   "cell_type": "code",
   "execution_count": 12,
   "id": "f22dcef4-89b8-4be7-906f-98b557edfb6f",
   "metadata": {},
   "outputs": [
    {
     "data": {
      "text/plain": [
       "[0, 0, 1, 1, 1, 1, 0, 0, 1, 1, 1, 1]"
      ]
     },
     "execution_count": 12,
     "metadata": {},
     "output_type": "execute_result"
    }
   ],
   "source": [
    "ans*2"
   ]
  },
  {
   "cell_type": "raw",
   "id": "26b42057-3118-47ea-8600-411c2980f817",
   "metadata": {},
   "source": [
    "Given an integer array nums of length n, you want to create an array ans of length 2n where ans[i] == nums[i] and ans[i + n] == nums[i] for 0 <= i < n (0-indexed).\n",
    "\n",
    "Specifically, ans is the concatenation of two nums arrays.\n",
    "\n",
    "Return the array ans.\n",
    "\n",
    " \n",
    "\n",
    "Example 1:\n",
    "\n",
    "Input: nums = [1,2,1]\n",
    "Output: [1,2,1,1,2,1]\n",
    "Explanation: The array ans is formed as follows:\n",
    "- ans = [nums[0],nums[1],nums[2],nums[0],nums[1],nums[2]]\n",
    "- ans = [1,2,1,1,2,1]\n",
    "Example 2:\n",
    "\n",
    "Input: nums = [1,3,2,1]\n",
    "Output: [1,3,2,1,1,3,2,1]\n",
    "Explanation: The array ans is formed as follows:\n",
    "- ans = [nums[0],nums[1],nums[2],nums[3],nums[0],nums[1],nums[2],nums[3]]\n",
    "- ans = [1,3,2,1,1,3,2,1]\n",
    " \n",
    "\n",
    "Constraints:\n",
    "\n",
    "n == nums.length\n",
    "1 <= n <= 1000\n",
    "1 <= nums[i] <= 1000"
   ]
  },
  {
   "cell_type": "code",
   "execution_count": 16,
   "id": "8bab79c3-6037-4bbb-9c2c-82930ceeada9",
   "metadata": {},
   "outputs": [
    {
     "data": {
      "text/plain": [
       "[1, 2, 3, 4, 5, 1, 2, 3, 4, 5]"
      ]
     },
     "execution_count": 16,
     "metadata": {},
     "output_type": "execute_result"
    }
   ],
   "source": [
    "nums=[1,2,3,4,5]\n",
    "ans=[0]\n",
    "def getConcatenation(nums):\n",
    "    n = len(nums)\n",
    "    ans = [0] * (2 * n)\n",
    "\n",
    "    for i in range(n):\n",
    "        ans[i] = nums[i]\n",
    "        ans[i + n] = nums[i]\n",
    "\n",
    "    return ans\n",
    "ans=getConcatenation(nums)\n",
    "ans"
   ]
  },
  {
   "cell_type": "code",
   "execution_count": null,
   "id": "a95ca1b9-b085-4d42-b51a-fe63ea474347",
   "metadata": {},
   "outputs": [],
   "source": []
  },
  {
   "cell_type": "code",
   "execution_count": null,
   "id": "9f8c54a4-1a95-450a-b7e5-5fe0db410e68",
   "metadata": {},
   "outputs": [],
   "source": []
  },
  {
   "cell_type": "code",
   "execution_count": null,
   "id": "247a6c87-03a1-477a-98d7-8a35f0b51195",
   "metadata": {},
   "outputs": [],
   "source": []
  },
  {
   "cell_type": "code",
   "execution_count": null,
   "id": "e2528e6c-1837-47b2-b705-e98121331497",
   "metadata": {},
   "outputs": [],
   "source": []
  },
  {
   "cell_type": "code",
   "execution_count": null,
   "id": "6e156995-c4b5-4897-86e9-7ddf09e03c7e",
   "metadata": {},
   "outputs": [],
   "source": []
  },
  {
   "cell_type": "code",
   "execution_count": null,
   "id": "f5821b90-2d50-4105-a68c-374a200a0015",
   "metadata": {},
   "outputs": [],
   "source": []
  },
  {
   "cell_type": "code",
   "execution_count": null,
   "id": "1c185760-2e23-4869-81fe-1f0c7176ff05",
   "metadata": {},
   "outputs": [],
   "source": []
  },
  {
   "cell_type": "code",
   "execution_count": null,
   "id": "b2ae780c-cff9-4b92-bf85-ed439354ec68",
   "metadata": {},
   "outputs": [],
   "source": []
  },
  {
   "cell_type": "code",
   "execution_count": null,
   "id": "5f9a65a0-53c4-43c7-a775-05e5fdbc9d51",
   "metadata": {},
   "outputs": [],
   "source": []
  },
  {
   "cell_type": "code",
   "execution_count": null,
   "id": "2208b9bf-a70c-4e73-bb2c-a9e26aa9f42b",
   "metadata": {},
   "outputs": [],
   "source": []
  },
  {
   "cell_type": "code",
   "execution_count": null,
   "id": "209d7989-8c66-4253-a45b-393ab513b6e3",
   "metadata": {},
   "outputs": [],
   "source": []
  }
 ],
 "metadata": {
  "kernelspec": {
   "display_name": "Python 3 (ipykernel)",
   "language": "python",
   "name": "python3"
  },
  "language_info": {
   "codemirror_mode": {
    "name": "ipython",
    "version": 3
   },
   "file_extension": ".py",
   "mimetype": "text/x-python",
   "name": "python",
   "nbconvert_exporter": "python",
   "pygments_lexer": "ipython3",
   "version": "3.11.8"
  }
 },
 "nbformat": 4,
 "nbformat_minor": 5
}
