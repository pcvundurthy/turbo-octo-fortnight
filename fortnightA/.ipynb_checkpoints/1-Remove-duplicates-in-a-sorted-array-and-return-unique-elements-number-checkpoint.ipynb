{
 "cells": [
  {
   "cell_type": "raw",
   "id": "d2a03f83-49dc-4fc8-a484-372cb5beb744",
   "metadata": {},
   "source": [
    "Given an integer array nums and an integer val, remove all occurrences of val in nums in-place. The order of the elements may be changed. Then return the number of elements in nums which are not equal to val.\n",
    "\n",
    "Consider the number of elements in nums which are not equal to val be k, to get accepted, you need to do the following things:\n",
    "\n",
    "Change the array nums such that the first k elements of nums contain the elements which are not equal to val. The remaining elements of nums are not important as well as the size of nums.\n",
    "Return k.\n",
    "Custom Judge:\n",
    "\n",
    "The judge will test your solution with the following code:\n",
    "\n",
    "int[] nums = [...]; // Input array\n",
    "int val = ...; // Value to remove\n",
    "int[] expectedNums = [...]; // The expected answer with correct length.\n",
    "                            // It is sorted with no values equaling val.\n",
    "\n",
    "int k = removeElement(nums, val); // Calls your implementation\n",
    "\n",
    "assert k == expectedNums.length;\n",
    "sort(nums, 0, k); // Sort the first k elements of nums\n",
    "for (int i = 0; i < actualLength; i++) {\n",
    "    assert nums[i] == expectedNums[i];\n",
    "}\n",
    "If all assertions pass, then your solution will be accepted.\n",
    "\n",
    " \n",
    "\n",
    "Example 1:\n",
    "\n",
    "Input: nums = [3,2,2,3], val = 3\n",
    "Output: 2, nums = [2,2,_,_]\n",
    "Explanation: Your function should return k = 2, with the first two elements of nums being 2.\n",
    "It does not matter what you leave beyond the returned k (hence they are underscores).\n",
    "Example 2:\n",
    "\n",
    "Input: nums = [0,1,2,2,3,0,4,2], val = 2\n",
    "Output: 5, nums = [0,1,4,0,3,_,_,_]\n",
    "Explanation: Your function should return k = 5, with the first five elements of nums containing 0, 0, 1, 3, and 4.\n",
    "Note that the five elements can be returned in any order.\n",
    "It does not matter what you leave beyond the returned k (hence they are underscores).\n",
    " \n",
    "\n",
    "Constraints:\n",
    "\n",
    "0 <= nums.length <= 100\n",
    "0 <= nums[i] <= 50\n",
    "0 <= val <= 100"
   ]
  },
  {
   "cell_type": "code",
   "execution_count": 3,
   "id": "39f47b2f-db27-443a-84f3-6309f0927cff",
   "metadata": {},
   "outputs": [
    {
     "name": "stdout",
     "output_type": "stream",
     "text": [
      "Unique count: 10\n",
      "Modified array: [0, 1, 2, 3, 4, 5, 6, 7, 8, 9]\n"
     ]
    }
   ],
   "source": [
    "from typing import List\n",
    "nums=[]\n",
    "class Solution:\n",
    "    def removeDuplicates(self, nums: List[int]) -> int:\n",
    "        i=0\n",
    "        for j in range(1, len(nums)):\n",
    "            if nums[j]!=nums[i]:\n",
    "                i+=1\n",
    "                nums[i]=nums[j]\n",
    "        return i+1\n",
    "nums=[0,0,1,1,2,2,2,3,3,4,5,6,6,7,8,8,8,8,9]\n",
    "sol=Solution()\n",
    "k=sol.removeDuplicates(nums)\n",
    "# Print the results\n",
    "print(\"Unique count:\", k)\n",
    "print(\"Modified array:\", nums[:k])\n",
    "#removeDuplicates(nums)"
   ]
  },
  {
   "cell_type": "code",
   "execution_count": null,
   "id": "e6993c4f-6490-4930-a047-96ce3aa6e7f1",
   "metadata": {},
   "outputs": [],
   "source": []
  },
  {
   "cell_type": "code",
   "execution_count": null,
   "id": "11095571-db0b-4cd5-9677-a72206a3a6a8",
   "metadata": {},
   "outputs": [],
   "source": []
  },
  {
   "cell_type": "code",
   "execution_count": null,
   "id": "56d8f42b-d3de-4300-8ceb-d886f7c7ff42",
   "metadata": {},
   "outputs": [],
   "source": []
  }
 ],
 "metadata": {
  "kernelspec": {
   "display_name": "Python 3 (ipykernel)",
   "language": "python",
   "name": "python3"
  },
  "language_info": {
   "codemirror_mode": {
    "name": "ipython",
    "version": 3
   },
   "file_extension": ".py",
   "mimetype": "text/x-python",
   "name": "python",
   "nbconvert_exporter": "python",
   "pygments_lexer": "ipython3",
   "version": "3.11.8"
  }
 },
 "nbformat": 4,
 "nbformat_minor": 5
}
