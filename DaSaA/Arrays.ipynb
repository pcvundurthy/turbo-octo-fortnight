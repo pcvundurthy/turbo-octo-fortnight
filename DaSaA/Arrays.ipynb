{
 "cells": [
  {
   "cell_type": "code",
   "execution_count": 1,
   "id": "163af2d3-5206-47f8-93e9-e8f7a4515007",
   "metadata": {},
   "outputs": [
    {
     "data": {
      "text/plain": [
       "5"
      ]
     },
     "execution_count": 1,
     "metadata": {},
     "output_type": "execute_result"
    }
   ],
   "source": [
    "#Reading from an array and access an element\n",
    "myArray=[1,3,5]\n",
    "i=2\n",
    "myArray[i]"
   ]
  },
  {
   "cell_type": "code",
   "execution_count": 3,
   "id": "a6bad63b-460d-46a1-8fd8-4c40814130f2",
   "metadata": {},
   "outputs": [
    {
     "name": "stdout",
     "output_type": "stream",
     "text": [
      "1\n",
      "3\n",
      "5\n",
      "______\n",
      "1\n",
      "3\n",
      "5\n"
     ]
    }
   ],
   "source": [
    "#Traversing through an array\n",
    "#using for loop:\n",
    "for i in range(len(myArray)):\n",
    "    print(myArray[i])\n",
    "\n",
    "#Also using while loop:\n",
    "print(\"______\")\n",
    "i=0\n",
    "while(i<len(myArray)):\n",
    "    print(myArray[i])\n",
    "    i+=1\n",
    "    "
   ]
  },
  {
   "cell_type": "markdown",
   "id": "8c85b986-9847-4e93-9899-64e1c70166ed",
   "metadata": {},
   "source": [
    "### The number of operations grows linearly with the size of the array!!!"
   ]
  },
  {
   "cell_type": "markdown",
   "id": "ec413f59-9e40-4027-931a-30ba39179679",
   "metadata": {},
   "source": [
    "### In statically typed languages, all array indices are filled with 0s or some default value upon initialization, denoting an empty array. when we want to remove an element from the last index of an array, setting its value to 0/null or -1 is the best we can do. \n",
    "## This is called Soft delete, not deleting but overwritten.\n",
    "## Targetting static Array"
   ]
  },
  {
   "cell_type": "code",
   "execution_count": 5,
   "id": "0dedad32-579a-40ac-9756-de733f8d4f57",
   "metadata": {},
   "outputs": [
    {
     "data": {
      "text/plain": [
       "[1, 3, 0]"
      ]
     },
     "execution_count": 5,
     "metadata": {},
     "output_type": "execute_result"
    }
   ],
   "source": [
    "##Remove from the last position in the array if teh array is not empty(i.e. length i non-zero)\n",
    "def removeEnd(arr):\n",
    "    if len(arr)>0:\n",
    "        arr[len(arr)-1]=0\n",
    "    return arr\n",
    "arr=[1,3,5]\n",
    "removeEnd(arr)"
   ]
  },
  {
   "cell_type": "code",
   "execution_count": 9,
   "id": "2cf45cee-25d3-4696-8bfa-a9b1e537d533",
   "metadata": {},
   "outputs": [
    {
     "name": "stdout",
     "output_type": "stream",
     "text": [
      "[4, 6, 6]\n",
      "[4, 6, 0]\n"
     ]
    }
   ],
   "source": [
    "##Removal of an element at the ith index\n",
    "#Basically Shifting the elements after the ith index to one step towards i; i+1 replacing i\n",
    "arr=[4,5,6]\n",
    "del_i=1\n",
    "length=3\n",
    "for index in range(del_i+1,length):\n",
    "    arr[index-1]=arr[index]\n",
    "print(arr)\n",
    "#OPtional to replace the last element with 0\n",
    "arr[length-1]=0\n",
    "print(arr)"
   ]
  },
  {
   "cell_type": "code",
   "execution_count": 11,
   "id": "cc6b9f78-bf5f-493f-8b8f-92ebf684920b",
   "metadata": {},
   "outputs": [],
   "source": [
    "##Insertion at the End\n",
    "#insert n into arr a the next open position\n",
    "#Length is the number of 'real' values in arr, and capacity\n",
    "#is the size (aka memory allocated for the fixed size array)\n",
    "def insertEnd(arr, n, length, capacity):\n",
    "    if length<capacity:\n",
    "        arr[length]=n"
   ]
  },
  {
   "cell_type": "markdown",
   "id": "6dcfc158-b46c-4dfb-9722-3ce8893dc10f",
   "metadata": {},
   "source": [
    "#### In the above case, The time complexity is O(1) as we are writing a single value to the array"
   ]
  },
  {
   "cell_type": "code",
   "execution_count": 15,
   "id": "29fc9984-31dc-4f4d-ab94-afd7ccba288b",
   "metadata": {},
   "outputs": [
    {
     "data": {
      "text/plain": [
       "[4, 5, 3, 6]"
      ]
     },
     "execution_count": 15,
     "metadata": {},
     "output_type": "execute_result"
    }
   ],
   "source": [
    "#Inserting at the ith index is more involved since we may insert in the middle of the array\n",
    "##We will need to shift all values starting at the index one position to the right.\n",
    "#Assuming i is valid index and array is not full\n",
    "def insertMiddle(arr,i,n,length):\n",
    "    for index in range(length-1, i-1,-1):\n",
    "        arr[index+1]=arr[index]\n",
    "    arr[i]=n\n",
    "    return arr\n",
    "n=3\n",
    "arr=[4,5,6,0]\n",
    "i=2\n",
    "length=3\n",
    "insertMiddle(arr,i,n,length)\n",
    "##Remember we are dealing with static arrays"
   ]
  },
  {
   "cell_type": "markdown",
   "id": "f89af2d8-8b1c-423a-87d9-acce962a7bb6",
   "metadata": {},
   "source": [
    "## Shifting occurs prior to insertion so that values are not overwritten"
   ]
  },
  {
   "cell_type": "code",
   "execution_count": null,
   "id": "88814de9-059a-4b92-bb4c-2261d9455344",
   "metadata": {},
   "outputs": [],
   "source": []
  }
 ],
 "metadata": {
  "kernelspec": {
   "display_name": "Python 3 (ipykernel)",
   "language": "python",
   "name": "python3"
  },
  "language_info": {
   "codemirror_mode": {
    "name": "ipython",
    "version": 3
   },
   "file_extension": ".py",
   "mimetype": "text/x-python",
   "name": "python",
   "nbconvert_exporter": "python",
   "pygments_lexer": "ipython3",
   "version": "3.11.8"
  }
 },
 "nbformat": 4,
 "nbformat_minor": 5
}
